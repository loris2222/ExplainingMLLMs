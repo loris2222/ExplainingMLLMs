{
 "cells": [
  {
   "cell_type": "code",
   "execution_count": 1,
   "metadata": {},
   "outputs": [],
   "source": [
    "import os\n",
    "os.environ[\"CUDA_VISIBLE_DEVICES\"] = \"0\"\n",
    "device = \"cuda:0\""
   ]
  },
  {
   "cell_type": "code",
   "execution_count": null,
   "metadata": {},
   "outputs": [],
   "source": [
    "# Load SDXL model\n",
    "from diffusers import DiffusionPipeline\n",
    "import torch\n",
    "\n",
    "base = DiffusionPipeline.from_pretrained(\n",
    "    \"stabilityai/stable-diffusion-xl-base-1.0\", torch_dtype=torch.float16, variant=\"fp16\", use_safetensors=True\n",
    ").to(\"cuda\")\n",
    "\n",
    "refiner = DiffusionPipeline.from_pretrained(\n",
    "    \"stabilityai/stable-diffusion-xl-refiner-1.0\",\n",
    "    text_encoder_2=base.text_encoder_2,\n",
    "    vae=base.vae,\n",
    "    torch_dtype=torch.float16,\n",
    "    use_safetensors=True,\n",
    "    variant=\"fp16\",\n",
    ").to(\"cuda\")"
   ]
  },
  {
   "cell_type": "code",
   "execution_count": null,
   "metadata": {},
   "outputs": [],
   "source": [
    "import os\n",
    "from tqdm import tqdm\n",
    "out_path = \"../data/portraits_sdxl_ethnicity/\"  # \"../data/portraits_sdxl_gender/\"\n",
    "# prompt = \"A headshot of a man|woman in his 40s, DSLR, detailed, 8k, in perfect focus, shoulder height\"\n",
    "prompt = \"A headshot of a black person|caucasian person, DSLR, detailed, 8k, in perfect focus, shoulder height\"\n",
    "\n",
    "for i in tqdm(range(2)):\n",
    "    image = base(\n",
    "        prompt=prompt,\n",
    "        num_inference_steps=50,\n",
    "        denoising_end=0.8,\n",
    "        output_type=\"latent\",\n",
    "    ).images\n",
    "    image = refiner(\n",
    "        prompt=prompt,\n",
    "        num_inference_steps=50,\n",
    "        denoising_start=0.8,\n",
    "        image=image,\n",
    "    ).images[0]\n",
    "    image.save(os.path.join(out_path, f\"portrait_{50+i}.jpg\"))"
   ]
  }
 ],
 "metadata": {
  "kernelspec": {
   "display_name": "base",
   "language": "python",
   "name": "python3"
  },
  "language_info": {
   "codemirror_mode": {
    "name": "ipython",
    "version": 3
   },
   "file_extension": ".py",
   "mimetype": "text/x-python",
   "name": "python",
   "nbconvert_exporter": "python",
   "pygments_lexer": "ipython3",
   "version": "3.11.4"
  }
 },
 "nbformat": 4,
 "nbformat_minor": 2
}
